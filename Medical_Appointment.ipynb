{
 "cells": [
  {
   "cell_type": "code",
   "execution_count": null,
   "metadata": {
    "colab": {
     "base_uri": "https://localhost:8080/"
    },
    "id": "YEG9_EFHcXoW",
    "outputId": "e6632da3-b17c-49fa-8f75-e2286cd4dd55"
   },
   "outputs": [
    {
     "name": "stdout",
     "output_type": "stream",
     "text": [
      "Collecting pyspark\n",
      "  Downloading pyspark-3.5.0.tar.gz (316.9 MB)\n",
      "\u001b[2K     \u001b[90m━━━━━━━━━━━━━━━━━━━━━━━━━━━━━━━━━━━━━━━━\u001b[0m \u001b[32m316.9/316.9 MB\u001b[0m \u001b[31m3.4 MB/s\u001b[0m eta \u001b[36m0:00:00\u001b[0m\n",
      "\u001b[?25h  Preparing metadata (setup.py) ... \u001b[?25l\u001b[?25hdone\n",
      "Requirement already satisfied: py4j==0.10.9.7 in /usr/local/lib/python3.10/dist-packages (from pyspark) (0.10.9.7)\n",
      "Building wheels for collected packages: pyspark\n",
      "  Building wheel for pyspark (setup.py) ... \u001b[?25l\u001b[?25hdone\n",
      "  Created wheel for pyspark: filename=pyspark-3.5.0-py2.py3-none-any.whl size=317425345 sha256=bc0b06ae3b3e1482760ece0aedfdcee24297ce0ebfaebc9cabfe9500c73f0589\n",
      "  Stored in directory: /root/.cache/pip/wheels/41/4e/10/c2cf2467f71c678cfc8a6b9ac9241e5e44a01940da8fbb17fc\n",
      "Successfully built pyspark\n",
      "Installing collected packages: pyspark\n",
      "Successfully installed pyspark-3.5.0\n"
     ]
    }
   ],
   "source": [
    "!pip install pyspark"
   ]
  },
  {
   "cell_type": "code",
   "execution_count": null,
   "metadata": {
    "id": "m4iGgFe8tqEp"
   },
   "outputs": [],
   "source": [
    "# importing pyspark\n",
    "import pyspark\n",
    "from pyspark.sql import SparkSession\n",
    "# creating a sparksession by default it will do two clusters"
   ]
  },
  {
   "cell_type": "code",
   "execution_count": null,
   "metadata": {
    "id": "7XWoqHeu3QB-"
   },
   "outputs": [],
   "source": [
    "# Now we will create a cluster\n",
    "spark=SparkSession.builder.appName(\"Healthcare\").getOrCreate()"
   ]
  },
  {
   "cell_type": "code",
   "execution_count": 5,
   "metadata": {
    "id": "KO9VJLTg3_On"
   },
   "outputs": [],
   "source": [
    "# importing data\n",
    "appointmentdf=spark.read.csv(\"/content/drive/MyDrive/colab/KaggleV2-May-2016.csv\",inferSchema=True,header=True)"
   ]
  },
  {
   "cell_type": "code",
   "execution_count": 7,
   "metadata": {
    "colab": {
     "base_uri": "https://localhost:8080/"
    },
    "id": "TCSca2a55Rfj",
    "outputId": "8dda6736-18cd-446c-8bf2-f4ceb3de4c7b"
   },
   "outputs": [
    {
     "name": "stdout",
     "output_type": "stream",
     "text": [
      "+-------------------+-------------+------+-------------------+-------------------+---+-----------------+-----------+------------+--------+----------+-------+------------+-------+\n",
      "|          PatientId|AppointmentID|Gender|       ScheduledDay|     AppointmentDay|Age|    Neighbourhood|Scholarship|Hipertension|Diabetes|Alcoholism|Handcap|SMS_received|No-show|\n",
      "+-------------------+-------------+------+-------------------+-------------------+---+-----------------+-----------+------------+--------+----------+-------+------------+-------+\n",
      "| 2.9872499824296E13|      5642903|     F|2016-04-29 18:38:08|2016-04-29 00:00:00| 62|  JARDIM DA PENHA|          0|           1|       0|         0|      0|           0|     No|\n",
      "|5.58997776694438E14|      5642503|     M|2016-04-29 16:08:27|2016-04-29 00:00:00| 56|  JARDIM DA PENHA|          0|           0|       0|         0|      0|           0|     No|\n",
      "|  4.262962299951E12|      5642549|     F|2016-04-29 16:19:04|2016-04-29 00:00:00| 62|    MATA DA PRAIA|          0|           0|       0|         0|      0|           0|     No|\n",
      "|   8.67951213174E11|      5642828|     F|2016-04-29 17:29:31|2016-04-29 00:00:00|  8|PONTAL DE CAMBURI|          0|           0|       0|         0|      0|           0|     No|\n",
      "|  8.841186448183E12|      5642494|     F|2016-04-29 16:07:23|2016-04-29 00:00:00| 56|  JARDIM DA PENHA|          0|           1|       1|         0|      0|           0|     No|\n",
      "+-------------------+-------------+------+-------------------+-------------------+---+-----------------+-----------+------------+--------+----------+-------+------------+-------+\n",
      "only showing top 5 rows\n",
      "\n"
     ]
    }
   ],
   "source": [
    "appointmentdf.show(5) # displays top 5 rows"
   ]
  },
  {
   "cell_type": "code",
   "execution_count": 8,
   "metadata": {
    "colab": {
     "base_uri": "https://localhost:8080/"
    },
    "id": "VSVVYaZS5Rb4",
    "outputId": "d216919f-a910-416c-e3ad-d39e79aa3950"
   },
   "outputs": [
    {
     "name": "stdout",
     "output_type": "stream",
     "text": [
      "+-------+--------------------+-----------------+------+------------------+-------------+-------------------+-------------------+-------------------+--------------------+--------------------+-------------------+-------+\n",
      "|summary|           PatientId|    AppointmentID|Gender|               Age|Neighbourhood|        Scholarship|       Hipertension|           Diabetes|          Alcoholism|             Handcap|       SMS_received|No-show|\n",
      "+-------+--------------------+-----------------+------+------------------+-------------+-------------------+-------------------+-------------------+--------------------+--------------------+-------------------+-------+\n",
      "|  count|              110527|           110527|110527|            110527|       110527|             110527|             110527|             110527|              110527|              110527|             110527| 110527|\n",
      "|   mean|1.474962657103946...|5675305.123426855|  NULL| 37.08887421173107|         NULL|0.09826558216544373| 0.1972459218109602|0.07186479321794674|0.030399811810688793|0.022247957512643968|0.32102563174608917|   NULL|\n",
      "| stddev| 2.56094920291739E14|71295.75153967967|  NULL|23.110204963682584|         NULL|0.29767475410930705|0.39792134994708794| 0.2582650735074656|  0.1716855554142438| 0.16154272581427892|  0.466872731701867|   NULL|\n",
      "|    min|         39217.84439|          5030230|     F|                -1|    AEROPORTO|                  0|                  0|                  0|                   0|                   0|                  0|     No|\n",
      "|    max| 9.99981631772427E14|          5790484|     M|               115|   VILA RUBIM|                  1|                  1|                  1|                   1|                   4|                  1|    Yes|\n",
      "+-------+--------------------+-----------------+------+------------------+-------------+-------------------+-------------------+-------------------+--------------------+--------------------+-------------------+-------+\n",
      "\n"
     ]
    }
   ],
   "source": [
    "appointmentdf.describe().show() # displays the information of data set"
   ]
  },
  {
   "cell_type": "code",
   "execution_count": null,
   "metadata": {
    "id": "KplgsWsu5RX-"
   },
   "outputs": [],
   "source": [
    "# from above we got to know that there are no null values present in data set"
   ]
  },
  {
   "cell_type": "code",
   "execution_count": 9,
   "metadata": {
    "colab": {
     "base_uri": "https://localhost:8080/"
    },
    "id": "X1A8NPjN5RTN",
    "outputId": "2a474484-07c7-49ff-90b2-da46b7e358f9"
   },
   "outputs": [
    {
     "data": {
      "text/plain": [
       "['PatientId',\n",
       " 'AppointmentID',\n",
       " 'Gender',\n",
       " 'ScheduledDay',\n",
       " 'AppointmentDay',\n",
       " 'Age',\n",
       " 'Neighbourhood',\n",
       " 'Scholarship',\n",
       " 'Hipertension',\n",
       " 'Diabetes',\n",
       " 'Alcoholism',\n",
       " 'Handcap',\n",
       " 'SMS_received',\n",
       " 'No-show']"
      ]
     },
     "execution_count": 9,
     "metadata": {},
     "output_type": "execute_result"
    }
   ],
   "source": [
    "appointmentdf.columns # gives you the names of variables"
   ]
  },
  {
   "cell_type": "code",
   "execution_count": 10,
   "metadata": {
    "colab": {
     "base_uri": "https://localhost:8080/"
    },
    "id": "bN7qcbU75RND",
    "outputId": "656a2ee2-1280-4c41-aaa5-f7bff6bf9bf0"
   },
   "outputs": [
    {
     "data": {
      "text/plain": [
       "[('PatientId', 'double'),\n",
       " ('AppointmentID', 'int'),\n",
       " ('Gender', 'string'),\n",
       " ('ScheduledDay', 'timestamp'),\n",
       " ('AppointmentDay', 'timestamp'),\n",
       " ('Age', 'int'),\n",
       " ('Neighbourhood', 'string'),\n",
       " ('Scholarship', 'int'),\n",
       " ('Hipertension', 'int'),\n",
       " ('Diabetes', 'int'),\n",
       " ('Alcoholism', 'int'),\n",
       " ('Handcap', 'int'),\n",
       " ('SMS_received', 'int'),\n",
       " ('No-show', 'string')]"
      ]
     },
     "execution_count": 10,
     "metadata": {},
     "output_type": "execute_result"
    }
   ],
   "source": [
    "appointmentdf.dtypes # gives the data types of the variables"
   ]
  },
  {
   "cell_type": "code",
   "execution_count": 11,
   "metadata": {
    "colab": {
     "base_uri": "https://localhost:8080/"
    },
    "id": "5-5DDxP65RJp",
    "outputId": "3b3e941f-03aa-4ba6-c558-f4767eaa2081"
   },
   "outputs": [
    {
     "name": "stdout",
     "output_type": "stream",
     "text": [
      "+-------+-----+\n",
      "|No-show|count|\n",
      "+-------+-----+\n",
      "|     No|88208|\n",
      "|    Yes|22319|\n",
      "+-------+-----+\n",
      "\n"
     ]
    }
   ],
   "source": [
    "appointmentdf.groupBy('No-show').count().show() # gives the value counts of the variable"
   ]
  },
  {
   "cell_type": "code",
   "execution_count": 17,
   "metadata": {
    "id": "rMs9FnNV9OTR"
   },
   "outputs": [],
   "source": [
    "# Exploratory Data Analysis"
   ]
  },
  {
   "cell_type": "code",
   "execution_count": 12,
   "metadata": {
    "colab": {
     "base_uri": "https://localhost:8080/"
    },
    "id": "FVi36wSf5RFZ",
    "outputId": "82148845-a5de-48f6-ef3b-011bd89ffa8e"
   },
   "outputs": [
    {
     "name": "stdout",
     "output_type": "stream",
     "text": [
      "+-------+------------------+\n",
      "|summary|               Age|\n",
      "+-------+------------------+\n",
      "|  count|            110527|\n",
      "|   mean| 37.08887421173107|\n",
      "| stddev|23.110204963682584|\n",
      "|    min|                -1|\n",
      "|    max|               115|\n",
      "+-------+------------------+\n",
      "\n"
     ]
    }
   ],
   "source": [
    "appointmentdf.select(\"Age\").describe().show()  # gives the statistical values of numeric columns"
   ]
  },
  {
   "cell_type": "code",
   "execution_count": 13,
   "metadata": {
    "id": "PcaUN0ja5RAz"
   },
   "outputs": [],
   "source": [
    "from pyspark.sql.functions import skewness,kurtosis # importing skewness and kurtosis"
   ]
  },
  {
   "cell_type": "code",
   "execution_count": 14,
   "metadata": {
    "colab": {
     "base_uri": "https://localhost:8080/"
    },
    "id": "3LnnnBMQ5Q9K",
    "outputId": "f11a7ca0-cd36-46c0-dda3-306fb0f1d543"
   },
   "outputs": [
    {
     "name": "stdout",
     "output_type": "stream",
     "text": [
      "+-------------------+------------------+\n",
      "|      skewness(Age)|     kurtosis(Age)|\n",
      "+-------------------+------------------+\n",
      "|0.12165636682687768|-0.952278601592428|\n",
      "+-------------------+------------------+\n",
      "\n"
     ]
    }
   ],
   "source": [
    "appointmentdf.select(skewness(\"Age\"),kurtosis(\"Age\")).show() # displays the skewness and kurtosis of the variable"
   ]
  },
  {
   "cell_type": "code",
   "execution_count": 18,
   "metadata": {
    "colab": {
     "base_uri": "https://localhost:8080/"
    },
    "id": "3I6DHi9d5Qve",
    "outputId": "cdaa555d-9baf-4045-c430-eb7131df811b"
   },
   "outputs": [
    {
     "name": "stdout",
     "output_type": "stream",
     "text": [
      "+-------+------------------+\n",
      "|No-show|          avg(Age)|\n",
      "+-------+------------------+\n",
      "|     No|37.790064393252315|\n",
      "|    Yes| 34.31766656212196|\n",
      "+-------+------------------+\n",
      "\n"
     ]
    }
   ],
   "source": [
    "appointmentdf.groupBy('No-show').mean('Age').show() # displays the average age of people who came for there appointment\n",
    "# and who didnot came for there appointment"
   ]
  },
  {
   "cell_type": "code",
   "execution_count": 19,
   "metadata": {
    "colab": {
     "base_uri": "https://localhost:8080/"
    },
    "id": "6-FoFFgD91z6",
    "outputId": "6e7589fd-10c5-4e29-9408-5db5811aecc4"
   },
   "outputs": [
    {
     "name": "stdout",
     "output_type": "stream",
     "text": [
      "+--------------------+-----+-----+\n",
      "|No-show_SMS_received|    0|    1|\n",
      "+--------------------+-----+-----+\n",
      "|                  No|62510|25698|\n",
      "|                 Yes|12535| 9784|\n",
      "+--------------------+-----+-----+\n",
      "\n"
     ]
    }
   ],
   "source": [
    "appointmentdf.crosstab('No-show','SMS_received').show() # displays crosstabulation of the variables"
   ]
  },
  {
   "cell_type": "code",
   "execution_count": 87,
   "metadata": {
    "id": "2omrGDzwObqP"
   },
   "outputs": [],
   "source": [
    "# Data Preprocessing"
   ]
  },
  {
   "cell_type": "code",
   "execution_count": 20,
   "metadata": {
    "id": "ll5wgq6Z-clJ"
   },
   "outputs": [],
   "source": [
    "# Encoding object variables"
   ]
  },
  {
   "cell_type": "code",
   "execution_count": 21,
   "metadata": {
    "id": "y5_fx1Ty-7HY"
   },
   "outputs": [],
   "source": [
    "# importing String Indexer and Pipeline(Pipeline passes the information to all clusters)\n",
    "from pyspark.ml.feature import StringIndexer\n",
    "from pyspark.ml import Pipeline"
   ]
  },
  {
   "cell_type": "code",
   "execution_count": 22,
   "metadata": {
    "id": "2oeSDjw-_VEL"
   },
   "outputs": [],
   "source": [
    "# dummy encoding the object variables\n",
    "gender_dummy=StringIndexer(inputCol='Gender',outputCol='genderdummy')\n",
    "neighbor_dummy=StringIndexer(inputCol='Neighbourhood',outputCol='neighbordummy')\n",
    "scholar_dummy=StringIndexer(inputCol='Scholarship',outputCol='scholardummy')\n",
    "bp_dummy=StringIndexer(inputCol='Hipertension',outputCol='bpdummy')\n",
    "sugar_dummy=StringIndexer(inputCol='Diabetes',outputCol='sugardummy')\n",
    "alcohol_dummy=StringIndexer(inputCol='Alcoholism',outputCol=\"alcoholdummy\")\n",
    "handicap_dummy=StringIndexer(inputCol='Handcap',outputCol='handicapdummy')\n",
    "sms_dummy=StringIndexer(inputCol='SMS_received',outputCol='smsdummy')\n",
    "noshow_dummy=StringIndexer(inputCol='No-show',outputCol='noshowdummy')"
   ]
  },
  {
   "cell_type": "code",
   "execution_count": 23,
   "metadata": {
    "id": "ZG_PbFT7_-mD"
   },
   "outputs": [],
   "source": [
    "pipeline=Pipeline(stages=[gender_dummy,neighbor_dummy,scholar_dummy,bp_dummy,sugar_dummy,alcohol_dummy,handicap_dummy,sms_dummy,noshow_dummy])"
   ]
  },
  {
   "cell_type": "code",
   "execution_count": 25,
   "metadata": {
    "id": "NypphcbOAiuW"
   },
   "outputs": [],
   "source": [
    "appointmentRDD=pipeline.fit(appointmentdf).transform(appointmentdf)"
   ]
  },
  {
   "cell_type": "code",
   "execution_count": 26,
   "metadata": {
    "colab": {
     "base_uri": "https://localhost:8080/"
    },
    "id": "fvxs58ogAv3W",
    "outputId": "f711856a-aa20-4a79-c7f8-12d6c24ed07f"
   },
   "outputs": [
    {
     "name": "stdout",
     "output_type": "stream",
     "text": [
      "+-------------------+-------------+------+-------------------+-------------------+---+-----------------+-----------+------------+--------+----------+-------+------------+-------+-----------+-------------+------------+-------+----------+------------+-------------+--------+-----------+\n",
      "|          PatientId|AppointmentID|Gender|       ScheduledDay|     AppointmentDay|Age|    Neighbourhood|Scholarship|Hipertension|Diabetes|Alcoholism|Handcap|SMS_received|No-show|genderdummy|neighbordummy|scholardummy|bpdummy|sugardummy|alcoholdummy|handicapdummy|smsdummy|noshowdummy|\n",
      "+-------------------+-------------+------+-------------------+-------------------+---+-----------------+-----------+------------+--------+----------+-------+------------+-------+-----------+-------------+------------+-------+----------+------------+-------------+--------+-----------+\n",
      "| 2.9872499824296E13|      5642903|     F|2016-04-29 18:38:08|2016-04-29 00:00:00| 62|  JARDIM DA PENHA|          0|           1|       0|         0|      0|           0|     No|        0.0|          3.0|         0.0|    1.0|       0.0|         0.0|          0.0|     0.0|        0.0|\n",
      "|5.58997776694438E14|      5642503|     M|2016-04-29 16:08:27|2016-04-29 00:00:00| 56|  JARDIM DA PENHA|          0|           0|       0|         0|      0|           0|     No|        1.0|          3.0|         0.0|    0.0|       0.0|         0.0|          0.0|     0.0|        0.0|\n",
      "|  4.262962299951E12|      5642549|     F|2016-04-29 16:19:04|2016-04-29 00:00:00| 62|    MATA DA PRAIA|          0|           0|       0|         0|      0|           0|     No|        0.0|         49.0|         0.0|    0.0|       0.0|         0.0|          0.0|     0.0|        0.0|\n",
      "|   8.67951213174E11|      5642828|     F|2016-04-29 17:29:31|2016-04-29 00:00:00|  8|PONTAL DE CAMBURI|          0|           0|       0|         0|      0|           0|     No|        0.0|         75.0|         0.0|    0.0|       0.0|         0.0|          0.0|     0.0|        0.0|\n",
      "|  8.841186448183E12|      5642494|     F|2016-04-29 16:07:23|2016-04-29 00:00:00| 56|  JARDIM DA PENHA|          0|           1|       1|         0|      0|           0|     No|        0.0|          3.0|         0.0|    1.0|       1.0|         0.0|          0.0|     0.0|        0.0|\n",
      "+-------------------+-------------+------+-------------------+-------------------+---+-----------------+-----------+------------+--------+----------+-------+------------+-------+-----------+-------------+------------+-------+----------+------------+-------------+--------+-----------+\n",
      "only showing top 5 rows\n",
      "\n"
     ]
    }
   ],
   "source": [
    "appointmentRDD.show(5) # we can see that dummy columns are added at the last"
   ]
  },
  {
   "cell_type": "code",
   "execution_count": 28,
   "metadata": {
    "colab": {
     "base_uri": "https://localhost:8080/"
    },
    "id": "pRXovmDlBXXx",
    "outputId": "b312d0a6-e212-4fe0-d391-b9c55e86d645"
   },
   "outputs": [
    {
     "data": {
      "text/plain": [
       "['PatientId',\n",
       " 'AppointmentID',\n",
       " 'Gender',\n",
       " 'ScheduledDay',\n",
       " 'AppointmentDay',\n",
       " 'Age',\n",
       " 'Neighbourhood',\n",
       " 'Scholarship',\n",
       " 'Hipertension',\n",
       " 'Diabetes',\n",
       " 'Alcoholism',\n",
       " 'Handcap',\n",
       " 'SMS_received',\n",
       " 'No-show',\n",
       " 'genderdummy',\n",
       " 'neighbordummy',\n",
       " 'scholardummy',\n",
       " 'bpdummy',\n",
       " 'sugardummy',\n",
       " 'alcoholdummy',\n",
       " 'handicapdummy',\n",
       " 'smsdummy',\n",
       " 'noshowdummy']"
      ]
     },
     "execution_count": 28,
     "metadata": {},
     "output_type": "execute_result"
    }
   ],
   "source": [
    "appointmentRDD.columns"
   ]
  },
  {
   "cell_type": "code",
   "execution_count": 29,
   "metadata": {
    "id": "RM3b0q7SA6uu"
   },
   "outputs": [],
   "source": [
    "# droping the columns\n",
    "colsdrop=['PatientId','AppointmentID','Gender','ScheduledDay','AppointmentDay','Neighbourhood',\n",
    " 'Scholarship','Hipertension','Diabetes','Alcoholism','Handcap','SMS_received','No-show']"
   ]
  },
  {
   "cell_type": "code",
   "execution_count": 30,
   "metadata": {
    "id": "_8cvdimtBoe4"
   },
   "outputs": [],
   "source": [
    "appointmentRDDDF=appointmentRDD.drop(*colsdrop)"
   ]
  },
  {
   "cell_type": "code",
   "execution_count": 31,
   "metadata": {
    "colab": {
     "base_uri": "https://localhost:8080/"
    },
    "id": "AfPjltkzB4FB",
    "outputId": "eebc3be7-be11-4662-8538-0b46f1927512"
   },
   "outputs": [
    {
     "name": "stdout",
     "output_type": "stream",
     "text": [
      "+---+-----------+-------------+------------+-------+----------+------------+-------------+--------+-----------+\n",
      "|Age|genderdummy|neighbordummy|scholardummy|bpdummy|sugardummy|alcoholdummy|handicapdummy|smsdummy|noshowdummy|\n",
      "+---+-----------+-------------+------------+-------+----------+------------+-------------+--------+-----------+\n",
      "| 62|        0.0|          3.0|         0.0|    1.0|       0.0|         0.0|          0.0|     0.0|        0.0|\n",
      "| 56|        1.0|          3.0|         0.0|    0.0|       0.0|         0.0|          0.0|     0.0|        0.0|\n",
      "| 62|        0.0|         49.0|         0.0|    0.0|       0.0|         0.0|          0.0|     0.0|        0.0|\n",
      "|  8|        0.0|         75.0|         0.0|    0.0|       0.0|         0.0|          0.0|     0.0|        0.0|\n",
      "| 56|        0.0|          3.0|         0.0|    1.0|       1.0|         0.0|          0.0|     0.0|        0.0|\n",
      "+---+-----------+-------------+------------+-------+----------+------------+-------------+--------+-----------+\n",
      "only showing top 5 rows\n",
      "\n"
     ]
    }
   ],
   "source": [
    "appointmentRDDDF.show(5) # we can cleary see that the columns in colsdrop got dropped"
   ]
  },
  {
   "cell_type": "code",
   "execution_count": 32,
   "metadata": {
    "id": "0BvXU6VuB7mu"
   },
   "outputs": [],
   "source": [
    " # importing RFormula\n",
    " from pyspark.ml.feature import RFormula"
   ]
  },
  {
   "cell_type": "code",
   "execution_count": 33,
   "metadata": {
    "id": "q0-DO7-BGjYa"
   },
   "outputs": [],
   "source": [
    "formula=RFormula(formula='noshowdummy~.',featuresCol='features',labelCol='label')\n",
    "# coverting indepentent varaiable into one cluster and dependent variable into one cluster\n",
    "# features are independent variables\n",
    "# label is dependent variable"
   ]
  },
  {
   "cell_type": "code",
   "execution_count": 34,
   "metadata": {
    "id": "f8uJwEjPGrha"
   },
   "outputs": [],
   "source": [
    "appointmentRDD=formula.fit(appointmentRDDDF).transform(appointmentRDDDF)"
   ]
  },
  {
   "cell_type": "code",
   "execution_count": 35,
   "metadata": {
    "colab": {
     "base_uri": "https://localhost:8080/"
    },
    "id": "9a-ETyFQHw9T",
    "outputId": "7e522d30-80f0-4429-fd73-2e038da5ba92"
   },
   "outputs": [
    {
     "name": "stdout",
     "output_type": "stream",
     "text": [
      "+--------------------+-----+\n",
      "|            features|label|\n",
      "+--------------------+-----+\n",
      "|(9,[0,2,4],[62.0,...|  0.0|\n",
      "|(9,[0,1,2],[56.0,...|  0.0|\n",
      "|(9,[0,2],[62.0,49...|  0.0|\n",
      "|(9,[0,2],[8.0,75.0])|  0.0|\n",
      "|(9,[0,2,4,5],[56....|  0.0|\n",
      "+--------------------+-----+\n",
      "only showing top 5 rows\n",
      "\n"
     ]
    }
   ],
   "source": [
    "appointmentRDD.select('features','label').show(5)\n",
    "# we have converted dependent and independent variables into two clusters"
   ]
  },
  {
   "cell_type": "code",
   "execution_count": 36,
   "metadata": {
    "colab": {
     "base_uri": "https://localhost:8080/"
    },
    "id": "aaioX1XgHz8_",
    "outputId": "cd7e1c19-8d0a-4a67-d89e-ce65ed522ea0"
   },
   "outputs": [
    {
     "name": "stdout",
     "output_type": "stream",
     "text": [
      "+---+-----------+-------------+------------+-------+----------+------------+-------------+--------+-----------+\n",
      "|Age|genderdummy|neighbordummy|scholardummy|bpdummy|sugardummy|alcoholdummy|handicapdummy|smsdummy|noshowdummy|\n",
      "+---+-----------+-------------+------------+-------+----------+------------+-------------+--------+-----------+\n",
      "| 62|        0.0|          3.0|         0.0|    1.0|       0.0|         0.0|          0.0|     0.0|        0.0|\n",
      "| 56|        1.0|          3.0|         0.0|    0.0|       0.0|         0.0|          0.0|     0.0|        0.0|\n",
      "| 62|        0.0|         49.0|         0.0|    0.0|       0.0|         0.0|          0.0|     0.0|        0.0|\n",
      "|  8|        0.0|         75.0|         0.0|    0.0|       0.0|         0.0|          0.0|     0.0|        0.0|\n",
      "| 56|        0.0|          3.0|         0.0|    1.0|       1.0|         0.0|          0.0|     0.0|        0.0|\n",
      "+---+-----------+-------------+------------+-------+----------+------------+-------------+--------+-----------+\n",
      "only showing top 5 rows\n",
      "\n"
     ]
    }
   ],
   "source": [
    "appointmentRDDDF.show(5)"
   ]
  },
  {
   "cell_type": "code",
   "execution_count": 38,
   "metadata": {
    "id": "mLQmuOqqIIjS"
   },
   "outputs": [],
   "source": [
    "# Model Building"
   ]
  },
  {
   "cell_type": "code",
   "execution_count": 40,
   "metadata": {
    "id": "CLM67bPaIb4U"
   },
   "outputs": [],
   "source": [
    "# Logistic Regression"
   ]
  },
  {
   "cell_type": "code",
   "execution_count": 39,
   "metadata": {
    "id": "9835B150IV3h"
   },
   "outputs": [],
   "source": [
    "# importing LogisticRegression,BinaryClassificationEvaluator,MulticlassClassificationEvaluator\n",
    "from pyspark.ml.classification import LogisticRegression\n",
    "from pyspark.ml.evaluation import BinaryClassificationEvaluator,MulticlassClassificationEvaluator"
   ]
  },
  {
   "cell_type": "code",
   "execution_count": 41,
   "metadata": {
    "id": "XG9cHutVInod"
   },
   "outputs": [],
   "source": [
    "logit=LogisticRegression(featuresCol='features',labelCol='label')"
   ]
  },
  {
   "cell_type": "code",
   "execution_count": 42,
   "metadata": {
    "id": "KTkWp-amIvzt"
   },
   "outputs": [],
   "source": [
    "logitmodel=logit.fit(appointmentRDD)"
   ]
  },
  {
   "cell_type": "code",
   "execution_count": 43,
   "metadata": {
    "colab": {
     "base_uri": "https://localhost:8080/"
    },
    "id": "B6VOATcyI6zR",
    "outputId": "96a8106d-0d55-49fe-a5bc-842920bb7041"
   },
   "outputs": [
    {
     "data": {
      "text/plain": [
       "0.798067440534892"
      ]
     },
     "execution_count": 43,
     "metadata": {},
     "output_type": "execute_result"
    }
   ],
   "source": [
    "logitmodel.summary.accuracy # accuracy is 0.7"
   ]
  },
  {
   "cell_type": "code",
   "execution_count": 44,
   "metadata": {
    "colab": {
     "base_uri": "https://localhost:8080/"
    },
    "id": "x1m41_HvI9Sj",
    "outputId": "581ea225-5188-4090-a85d-cf87aa927ea7"
   },
   "outputs": [
    {
     "data": {
      "text/plain": [
       "0.5964327533383069"
      ]
     },
     "execution_count": 44,
     "metadata": {},
     "output_type": "execute_result"
    }
   ],
   "source": [
    "logitmodel.summary.areaUnderROC # auc=0.59"
   ]
  },
  {
   "cell_type": "code",
   "execution_count": 45,
   "metadata": {
    "id": "sZBgtz0OJAHf"
   },
   "outputs": [],
   "source": [
    "logitpredict=logitmodel.transform(appointmentRDD)"
   ]
  },
  {
   "cell_type": "code",
   "execution_count": 47,
   "metadata": {
    "colab": {
     "base_uri": "https://localhost:8080/"
    },
    "id": "fkNl9N8WJJjF",
    "outputId": "706045b0-49de-46ea-eafa-072071101de6"
   },
   "outputs": [
    {
     "name": "stdout",
     "output_type": "stream",
     "text": [
      "+---+-----------+-------------+------------+-------+----------+------------+-------------+--------+-----------+--------------------+-----+--------------------+--------------------+----------+\n",
      "|Age|genderdummy|neighbordummy|scholardummy|bpdummy|sugardummy|alcoholdummy|handicapdummy|smsdummy|noshowdummy|            features|label|       rawPrediction|         probability|prediction|\n",
      "+---+-----------+-------------+------------+-------+----------+------------+-------------+--------+-----------+--------------------+-----+--------------------+--------------------+----------+\n",
      "| 62|        0.0|          3.0|         0.0|    1.0|       0.0|         0.0|          0.0|     0.0|        0.0|(9,[0,2,4],[62.0,...|  0.0|[1.84923515524927...|[0.86403727644512...|       0.0|\n",
      "| 56|        1.0|          3.0|         0.0|    0.0|       0.0|         0.0|          0.0|     0.0|        0.0|(9,[0,1,2],[56.0,...|  0.0|[1.76093057588088...|[0.85332616995024...|       0.0|\n",
      "| 62|        0.0|         49.0|         0.0|    0.0|       0.0|         0.0|          0.0|     0.0|        0.0|(9,[0,2],[62.0,49...|  0.0|[1.81058530147838...|[0.85943259836482...|       0.0|\n",
      "|  8|        0.0|         75.0|         0.0|    0.0|       0.0|         0.0|          0.0|     0.0|        0.0|(9,[0,2],[8.0,75.0])|  0.0|[1.47125232257241...|[0.81324765827195...|       0.0|\n",
      "| 56|        0.0|          3.0|         0.0|    1.0|       1.0|         0.0|          0.0|     0.0|        0.0|(9,[0,2,4,5],[56....|  0.0|[1.72418764694120...|[0.84866744571352...|       0.0|\n",
      "+---+-----------+-------------+------------+-------+----------+------------+-------------+--------+-----------+--------------------+-----+--------------------+--------------------+----------+\n",
      "only showing top 5 rows\n",
      "\n"
     ]
    }
   ],
   "source": [
    "logitpredict.show(5) # these are the predicted values"
   ]
  },
  {
   "cell_type": "code",
   "execution_count": 48,
   "metadata": {
    "id": "RXeQ-JmtJLX0"
   },
   "outputs": [],
   "source": [
    "# for base model we will get it as part of model but for other models we need to do it manually\n",
    "accuracy=MulticlassClassificationEvaluator(metricName='accuracy')\n",
    "auc=BinaryClassificationEvaluator()"
   ]
  },
  {
   "cell_type": "code",
   "execution_count": 48,
   "metadata": {
    "id": "uMk9bBXpKnoW"
   },
   "outputs": [],
   "source": []
  },
  {
   "cell_type": "code",
   "execution_count": 49,
   "metadata": {
    "id": "lNOMczvRKrvl"
   },
   "outputs": [],
   "source": [
    "# Decision Tree"
   ]
  },
  {
   "cell_type": "code",
   "execution_count": 50,
   "metadata": {
    "id": "8Rq8FoTYKty_"
   },
   "outputs": [],
   "source": [
    "from pyspark.ml.classification import DecisionTreeClassifier"
   ]
  },
  {
   "cell_type": "code",
   "execution_count": 53,
   "metadata": {
    "id": "9oxCZkiIKuYf"
   },
   "outputs": [],
   "source": [
    "tree=DecisionTreeClassifier(maxBins=81)"
   ]
  },
  {
   "cell_type": "code",
   "execution_count": 54,
   "metadata": {
    "id": "TzbMv-fQKwwU"
   },
   "outputs": [],
   "source": [
    "treemodel=tree.fit(appointmentRDD)"
   ]
  },
  {
   "cell_type": "code",
   "execution_count": 55,
   "metadata": {
    "id": "0f35xKmUK0fZ"
   },
   "outputs": [],
   "source": [
    "treepredict=treemodel.transform(appointmentRDD)"
   ]
  },
  {
   "cell_type": "code",
   "execution_count": 56,
   "metadata": {
    "colab": {
     "base_uri": "https://localhost:8080/"
    },
    "id": "h_cbUQhlLCbZ",
    "outputId": "1db8b1f5-877d-45ce-e807-6bf1f8ff2430"
   },
   "outputs": [
    {
     "data": {
      "text/plain": [
       "0.798067440534892"
      ]
     },
     "execution_count": 56,
     "metadata": {},
     "output_type": "execute_result"
    }
   ],
   "source": [
    "accuracy.evaluate(treepredict) # accuracy is 0.79"
   ]
  },
  {
   "cell_type": "code",
   "execution_count": 57,
   "metadata": {
    "colab": {
     "base_uri": "https://localhost:8080/"
    },
    "id": "K-LnBrWVLERN",
    "outputId": "1f53f4f1-0ae8-435c-c7e2-7a64fc135998"
   },
   "outputs": [
    {
     "data": {
      "text/plain": [
       "0.5"
      ]
     },
     "execution_count": 57,
     "metadata": {},
     "output_type": "execute_result"
    }
   ],
   "source": [
    "auc.evaluate(treepredict) # auc is 0.5"
   ]
  },
  {
   "cell_type": "code",
   "execution_count": null,
   "metadata": {
    "id": "GR77Tgr_LG59"
   },
   "outputs": [],
   "source": []
  },
  {
   "cell_type": "code",
   "execution_count": 58,
   "metadata": {
    "id": "7o1c1VRBLPUy"
   },
   "outputs": [],
   "source": [
    "# Random Forest"
   ]
  },
  {
   "cell_type": "code",
   "execution_count": 59,
   "metadata": {
    "id": "dvzP8DewLRyH"
   },
   "outputs": [],
   "source": [
    "from pyspark.ml.classification import RandomForestClassifier"
   ]
  },
  {
   "cell_type": "code",
   "execution_count": 60,
   "metadata": {
    "id": "SMH2Y_C6LUJx"
   },
   "outputs": [],
   "source": [
    "rf=RandomForestClassifier(maxBins=81)"
   ]
  },
  {
   "cell_type": "code",
   "execution_count": 61,
   "metadata": {
    "id": "3B5_ohKJLV3W"
   },
   "outputs": [],
   "source": [
    "rfmodel=rf.fit(appointmentRDD)"
   ]
  },
  {
   "cell_type": "code",
   "execution_count": 62,
   "metadata": {
    "id": "4qJJ8w_LLXh0"
   },
   "outputs": [],
   "source": [
    "rfpredict=rfmodel.transform(appointmentRDD)"
   ]
  },
  {
   "cell_type": "code",
   "execution_count": 63,
   "metadata": {
    "colab": {
     "base_uri": "https://localhost:8080/"
    },
    "id": "EH0GBEmSLbMj",
    "outputId": "d81e04bd-f483-4599-82d8-143565d27e7c"
   },
   "outputs": [
    {
     "data": {
      "text/plain": [
       "0.798067440534892"
      ]
     },
     "execution_count": 63,
     "metadata": {},
     "output_type": "execute_result"
    }
   ],
   "source": [
    "accuracy.evaluate(rfpredict) # accuracy is 0.79"
   ]
  },
  {
   "cell_type": "code",
   "execution_count": 64,
   "metadata": {
    "colab": {
     "base_uri": "https://localhost:8080/"
    },
    "id": "jXg3W16QLdKS",
    "outputId": "2f285f2a-d695-4b49-a00b-1335db7d7457"
   },
   "outputs": [
    {
     "data": {
      "text/plain": [
       "0.6047476048470436"
      ]
     },
     "execution_count": 64,
     "metadata": {},
     "output_type": "execute_result"
    }
   ],
   "source": [
    "auc.evaluate(rfpredict) # auc is 0.6"
   ]
  },
  {
   "cell_type": "code",
   "execution_count": null,
   "metadata": {
    "id": "ZW8FxHN8LfEs"
   },
   "outputs": [],
   "source": []
  },
  {
   "cell_type": "code",
   "execution_count": 65,
   "metadata": {
    "id": "m8fcdUo2LpfJ"
   },
   "outputs": [],
   "source": [
    "# Gradiant Boosting"
   ]
  },
  {
   "cell_type": "code",
   "execution_count": 66,
   "metadata": {
    "id": "4X9ne-7LLvpT"
   },
   "outputs": [],
   "source": [
    "from pyspark.ml.classification import GBTClassifier"
   ]
  },
  {
   "cell_type": "code",
   "execution_count": 67,
   "metadata": {
    "id": "hNOzlh-TLxcn"
   },
   "outputs": [],
   "source": [
    "gbm=GBTClassifier(maxBins=81)"
   ]
  },
  {
   "cell_type": "code",
   "execution_count": 68,
   "metadata": {
    "id": "JFl-G9pRLzPc"
   },
   "outputs": [],
   "source": [
    "gbmmodel=gbm.fit(appointmentRDD)"
   ]
  },
  {
   "cell_type": "code",
   "execution_count": 69,
   "metadata": {
    "id": "1TEBkQ1mL1Aj"
   },
   "outputs": [],
   "source": [
    "gbmpredict=gbmmodel.transform(appointmentRDD)"
   ]
  },
  {
   "cell_type": "code",
   "execution_count": 70,
   "metadata": {
    "colab": {
     "base_uri": "https://localhost:8080/"
    },
    "id": "0kL9DlztL4LL",
    "outputId": "67f91112-83e3-4398-dd83-b3ea80d6fb80"
   },
   "outputs": [
    {
     "data": {
      "text/plain": [
       "0.7986012467541868"
      ]
     },
     "execution_count": 70,
     "metadata": {},
     "output_type": "execute_result"
    }
   ],
   "source": [
    "accuracy.evaluate(gbmpredict) # accuracy is 0.79"
   ]
  },
  {
   "cell_type": "code",
   "execution_count": 71,
   "metadata": {
    "colab": {
     "base_uri": "https://localhost:8080/"
    },
    "id": "qMxISY4iL5yH",
    "outputId": "b759541a-0cb0-41b1-97fb-0b9d59d1628e"
   },
   "outputs": [
    {
     "data": {
      "text/plain": [
       "0.6454879968792955"
      ]
     },
     "execution_count": 71,
     "metadata": {},
     "output_type": "execute_result"
    }
   ],
   "source": [
    "auc.evaluate(gbmpredict) # auc is 0.64"
   ]
  },
  {
   "cell_type": "code",
   "execution_count": null,
   "metadata": {
    "id": "t34t1Ie5L86K"
   },
   "outputs": [],
   "source": []
  },
  {
   "cell_type": "code",
   "execution_count": 72,
   "metadata": {
    "id": "9Wh7-rvjL9x7"
   },
   "outputs": [],
   "source": [
    "# Support Vector Machine"
   ]
  },
  {
   "cell_type": "code",
   "execution_count": 73,
   "metadata": {
    "id": "1295-mndMJuQ"
   },
   "outputs": [],
   "source": [
    "from pyspark.ml.classification import LinearSVC"
   ]
  },
  {
   "cell_type": "code",
   "execution_count": 74,
   "metadata": {
    "id": "EFM6lKH3MazV"
   },
   "outputs": [],
   "source": [
    "svc=LinearSVC()"
   ]
  },
  {
   "cell_type": "code",
   "execution_count": 75,
   "metadata": {
    "id": "9WuUh7k7MiEQ"
   },
   "outputs": [],
   "source": [
    "svcmodel=svc.fit(appointmentRDD)"
   ]
  },
  {
   "cell_type": "code",
   "execution_count": 76,
   "metadata": {
    "id": "DzuHVd50MjwL"
   },
   "outputs": [],
   "source": [
    "svcpredict=svcmodel.transform(appointmentRDD)"
   ]
  },
  {
   "cell_type": "code",
   "execution_count": 77,
   "metadata": {
    "colab": {
     "base_uri": "https://localhost:8080/"
    },
    "id": "qgOWX3OzMljD",
    "outputId": "d6f4a394-bd9a-4f8b-f55f-0b9ec05b574a"
   },
   "outputs": [
    {
     "data": {
      "text/plain": [
       "0.798067440534892"
      ]
     },
     "execution_count": 77,
     "metadata": {},
     "output_type": "execute_result"
    }
   ],
   "source": [
    "accuracy.evaluate(svcpredict) # accuracy is 0.79"
   ]
  },
  {
   "cell_type": "code",
   "execution_count": 78,
   "metadata": {
    "colab": {
     "base_uri": "https://localhost:8080/"
    },
    "id": "v1dSmQmHMnKs",
    "outputId": "8569d6de-49cd-4ff6-9859-f5e64b103cda"
   },
   "outputs": [
    {
     "data": {
      "text/plain": [
       "0.540733973376347"
      ]
     },
     "execution_count": 78,
     "metadata": {},
     "output_type": "execute_result"
    }
   ],
   "source": [
    "auc.evaluate(svcpredict) # auc is 0.54"
   ]
  },
  {
   "cell_type": "markdown",
   "metadata": {
    "id": "oyE31NGJN6bI"
   },
   "source": [
    "| Model Name | Accuracy | ROC-AUC |\n",
    "|--|--|--|\n",
    "| Logistic Regression | 0.798067440534892 | 0.5964327533383069 |\n",
    "| Decision Tree |0.798067440534892 |0.5 |\n",
    "| Random Forest |0.798067440534892|0.6047476048470436 |\n",
    "| **Gradient Boosting Machine** | **0.7986012467541868** | **0.6454879968792955**|\n",
    "| Support Vector Machine | 0.798067440534892 |0.540733973376347|"
   ]
  },
  {
   "cell_type": "markdown",
   "metadata": {
    "id": "3jmy3JnkRSbA"
   },
   "source": [
    " From the Accuracy and AUC we say that  Gradient Boosting  is best model"
   ]
  },
  {
   "cell_type": "code",
   "execution_count": null,
   "metadata": {},
   "outputs": [],
   "source": []
  }
 ],
 "metadata": {
  "colab": {
   "provenance": []
  },
  "kernelspec": {
   "display_name": "Python 3 (ipykernel)",
   "language": "python",
   "name": "python3"
  },
  "language_info": {
   "codemirror_mode": {
    "name": "ipython",
    "version": 3
   },
   "file_extension": ".py",
   "mimetype": "text/x-python",
   "name": "python",
   "nbconvert_exporter": "python",
   "pygments_lexer": "ipython3",
   "version": "3.11.5"
  }
 },
 "nbformat": 4,
 "nbformat_minor": 1
}
